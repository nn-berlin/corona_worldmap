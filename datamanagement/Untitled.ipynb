{
 "cells": [
  {
   "cell_type": "code",
   "execution_count": 1,
   "metadata": {},
   "outputs": [],
   "source": [
    "import pandas as pd\n",
    "import requests"
   ]
  },
  {
   "cell_type": "code",
   "execution_count": 16,
   "metadata": {},
   "outputs": [],
   "source": [
    "from datetime import datetime as dt"
   ]
  },
  {
   "cell_type": "code",
   "execution_count": 2,
   "metadata": {},
   "outputs": [],
   "source": [
    "URL = 'https://api.covid19api.com/summary'"
   ]
  },
  {
   "cell_type": "code",
   "execution_count": 4,
   "metadata": {},
   "outputs": [],
   "source": [
    "data = requests.get(URL).json()"
   ]
  },
  {
   "cell_type": "code",
   "execution_count": 5,
   "metadata": {},
   "outputs": [],
   "source": [
    "summary = data['Countries']"
   ]
  },
  {
   "cell_type": "code",
   "execution_count": 7,
   "metadata": {},
   "outputs": [],
   "source": [
    "df = pd.DataFrame(summary)"
   ]
  },
  {
   "cell_type": "code",
   "execution_count": 9,
   "metadata": {
    "scrolled": true
   },
   "outputs": [
    {
     "data": {
      "text/plain": [
       "Country           object\n",
       "CountryCode       object\n",
       "Slug              object\n",
       "NewConfirmed       int64\n",
       "TotalConfirmed     int64\n",
       "NewDeaths          int64\n",
       "TotalDeaths        int64\n",
       "NewRecovered       int64\n",
       "TotalRecovered     int64\n",
       "Date              object\n",
       "Premium           object\n",
       "dtype: object"
      ]
     },
     "execution_count": 9,
     "metadata": {},
     "output_type": "execute_result"
    }
   ],
   "source": [
    "df.dtypes"
   ]
  },
  {
   "cell_type": "code",
   "execution_count": null,
   "metadata": {},
   "outputs": [],
   "source": [
    "df_countries = pd.DataFrame()\n",
    "int_cols = []\n",
    "\n",
    "for i in range(len(countries)):\n",
    "\tfor j, k in countries[i].items():\n",
    "\t\tif type(k) == int:\n",
    "\t\t\tint_cols.append(j)\n",
    "\t\tdf_countries.loc[i, str(j)] = str(k)\n",
    "\n",
    "# transform n#-cols to int\n",
    "set_int_cols = set(int_cols)\n",
    "for i in set_int_cols:\n",
    "\tdf_countries[i] = df_countries[i].apply(lambda x: int(x))\n"
   ]
  },
  {
   "cell_type": "code",
   "execution_count": 17,
   "metadata": {},
   "outputs": [],
   "source": [
    "df['Date'] = df['Date'].map(lambda x: dt.strptime(x, '%Y-%m-%dT%H:%M:%SZ').strftime('%m-%d-%Y'))"
   ]
  },
  {
   "cell_type": "code",
   "execution_count": 18,
   "metadata": {},
   "outputs": [],
   "source": [
    "df['Country'] = df['Country'].apply(lambda x: x.replace(\"'\", ''))"
   ]
  },
  {
   "cell_type": "code",
   "execution_count": 20,
   "metadata": {},
   "outputs": [],
   "source": [
    "df.loc[df[df.Country == 'Namibia'].index,'ISO2'] = 'NA'"
   ]
  },
  {
   "cell_type": "code",
   "execution_count": 22,
   "metadata": {},
   "outputs": [],
   "source": [
    "df = df[df['CountryCode'] != 'RE']"
   ]
  },
  {
   "cell_type": "code",
   "execution_count": 23,
   "metadata": {},
   "outputs": [],
   "source": [
    "df = df[df['CountryCode'] != 'MO']"
   ]
  },
  {
   "cell_type": "code",
   "execution_count": 24,
   "metadata": {},
   "outputs": [],
   "source": [
    "df = df.reset_index(drop = True)"
   ]
  },
  {
   "cell_type": "code",
   "execution_count": 25,
   "metadata": {},
   "outputs": [
    {
     "data": {
      "text/html": [
       "<div>\n",
       "<style scoped>\n",
       "    .dataframe tbody tr th:only-of-type {\n",
       "        vertical-align: middle;\n",
       "    }\n",
       "\n",
       "    .dataframe tbody tr th {\n",
       "        vertical-align: top;\n",
       "    }\n",
       "\n",
       "    .dataframe thead th {\n",
       "        text-align: right;\n",
       "    }\n",
       "</style>\n",
       "<table border=\"1\" class=\"dataframe\">\n",
       "  <thead>\n",
       "    <tr style=\"text-align: right;\">\n",
       "      <th></th>\n",
       "      <th>Country</th>\n",
       "      <th>CountryCode</th>\n",
       "      <th>Slug</th>\n",
       "      <th>NewConfirmed</th>\n",
       "      <th>TotalConfirmed</th>\n",
       "      <th>NewDeaths</th>\n",
       "      <th>TotalDeaths</th>\n",
       "      <th>NewRecovered</th>\n",
       "      <th>TotalRecovered</th>\n",
       "      <th>Date</th>\n",
       "      <th>Premium</th>\n",
       "      <th>ISO2</th>\n",
       "    </tr>\n",
       "  </thead>\n",
       "  <tbody>\n",
       "    <tr>\n",
       "      <th>0</th>\n",
       "      <td>Afghanistan</td>\n",
       "      <td>AF</td>\n",
       "      <td>afghanistan</td>\n",
       "      <td>46</td>\n",
       "      <td>53584</td>\n",
       "      <td>13</td>\n",
       "      <td>2301</td>\n",
       "      <td>471</td>\n",
       "      <td>44608</td>\n",
       "      <td>01-13-2021</td>\n",
       "      <td>{}</td>\n",
       "      <td>NaN</td>\n",
       "    </tr>\n",
       "    <tr>\n",
       "      <th>1</th>\n",
       "      <td>Albania</td>\n",
       "      <td>AL</td>\n",
       "      <td>albania</td>\n",
       "      <td>656</td>\n",
       "      <td>64627</td>\n",
       "      <td>5</td>\n",
       "      <td>1252</td>\n",
       "      <td>440</td>\n",
       "      <td>38421</td>\n",
       "      <td>01-13-2021</td>\n",
       "      <td>{}</td>\n",
       "      <td>NaN</td>\n",
       "    </tr>\n",
       "    <tr>\n",
       "      <th>2</th>\n",
       "      <td>Algeria</td>\n",
       "      <td>DZ</td>\n",
       "      <td>algeria</td>\n",
       "      <td>272</td>\n",
       "      <td>102641</td>\n",
       "      <td>4</td>\n",
       "      <td>2816</td>\n",
       "      <td>205</td>\n",
       "      <td>69608</td>\n",
       "      <td>01-13-2021</td>\n",
       "      <td>{}</td>\n",
       "      <td>NaN</td>\n",
       "    </tr>\n",
       "    <tr>\n",
       "      <th>3</th>\n",
       "      <td>Andorra</td>\n",
       "      <td>AD</td>\n",
       "      <td>andorra</td>\n",
       "      <td>96</td>\n",
       "      <td>8682</td>\n",
       "      <td>1</td>\n",
       "      <td>86</td>\n",
       "      <td>206</td>\n",
       "      <td>7930</td>\n",
       "      <td>01-13-2021</td>\n",
       "      <td>{}</td>\n",
       "      <td>NaN</td>\n",
       "    </tr>\n",
       "    <tr>\n",
       "      <th>4</th>\n",
       "      <td>Angola</td>\n",
       "      <td>AO</td>\n",
       "      <td>angola</td>\n",
       "      <td>89</td>\n",
       "      <td>18343</td>\n",
       "      <td>2</td>\n",
       "      <td>422</td>\n",
       "      <td>687</td>\n",
       "      <td>15512</td>\n",
       "      <td>01-13-2021</td>\n",
       "      <td>{}</td>\n",
       "      <td>NaN</td>\n",
       "    </tr>\n",
       "    <tr>\n",
       "      <th>...</th>\n",
       "      <td>...</td>\n",
       "      <td>...</td>\n",
       "      <td>...</td>\n",
       "      <td>...</td>\n",
       "      <td>...</td>\n",
       "      <td>...</td>\n",
       "      <td>...</td>\n",
       "      <td>...</td>\n",
       "      <td>...</td>\n",
       "      <td>...</td>\n",
       "      <td>...</td>\n",
       "      <td>...</td>\n",
       "    </tr>\n",
       "    <tr>\n",
       "      <th>185</th>\n",
       "      <td>Viet Nam</td>\n",
       "      <td>VN</td>\n",
       "      <td>vietnam</td>\n",
       "      <td>5</td>\n",
       "      <td>1520</td>\n",
       "      <td>0</td>\n",
       "      <td>35</td>\n",
       "      <td>0</td>\n",
       "      <td>1361</td>\n",
       "      <td>01-13-2021</td>\n",
       "      <td>{}</td>\n",
       "      <td>NaN</td>\n",
       "    </tr>\n",
       "    <tr>\n",
       "      <th>186</th>\n",
       "      <td>Western Sahara</td>\n",
       "      <td>EH</td>\n",
       "      <td>western-sahara</td>\n",
       "      <td>0</td>\n",
       "      <td>10</td>\n",
       "      <td>0</td>\n",
       "      <td>1</td>\n",
       "      <td>0</td>\n",
       "      <td>8</td>\n",
       "      <td>01-13-2021</td>\n",
       "      <td>{}</td>\n",
       "      <td>NaN</td>\n",
       "    </tr>\n",
       "    <tr>\n",
       "      <th>187</th>\n",
       "      <td>Yemen</td>\n",
       "      <td>YE</td>\n",
       "      <td>yemen</td>\n",
       "      <td>2</td>\n",
       "      <td>2107</td>\n",
       "      <td>0</td>\n",
       "      <td>612</td>\n",
       "      <td>0</td>\n",
       "      <td>1416</td>\n",
       "      <td>01-13-2021</td>\n",
       "      <td>{}</td>\n",
       "      <td>NaN</td>\n",
       "    </tr>\n",
       "    <tr>\n",
       "      <th>188</th>\n",
       "      <td>Zambia</td>\n",
       "      <td>ZM</td>\n",
       "      <td>zambia</td>\n",
       "      <td>1161</td>\n",
       "      <td>29757</td>\n",
       "      <td>24</td>\n",
       "      <td>495</td>\n",
       "      <td>293</td>\n",
       "      <td>21074</td>\n",
       "      <td>01-13-2021</td>\n",
       "      <td>{}</td>\n",
       "      <td>NaN</td>\n",
       "    </tr>\n",
       "    <tr>\n",
       "      <th>189</th>\n",
       "      <td>Zimbabwe</td>\n",
       "      <td>ZW</td>\n",
       "      <td>zimbabwe</td>\n",
       "      <td>942</td>\n",
       "      <td>23239</td>\n",
       "      <td>23</td>\n",
       "      <td>551</td>\n",
       "      <td>183</td>\n",
       "      <td>13396</td>\n",
       "      <td>01-13-2021</td>\n",
       "      <td>{}</td>\n",
       "      <td>NaN</td>\n",
       "    </tr>\n",
       "  </tbody>\n",
       "</table>\n",
       "<p>190 rows × 12 columns</p>\n",
       "</div>"
      ],
      "text/plain": [
       "            Country CountryCode            Slug  NewConfirmed  TotalConfirmed  \\\n",
       "0       Afghanistan          AF     afghanistan            46           53584   \n",
       "1           Albania          AL         albania           656           64627   \n",
       "2           Algeria          DZ         algeria           272          102641   \n",
       "3           Andorra          AD         andorra            96            8682   \n",
       "4            Angola          AO          angola            89           18343   \n",
       "..              ...         ...             ...           ...             ...   \n",
       "185        Viet Nam          VN         vietnam             5            1520   \n",
       "186  Western Sahara          EH  western-sahara             0              10   \n",
       "187           Yemen          YE           yemen             2            2107   \n",
       "188          Zambia          ZM          zambia          1161           29757   \n",
       "189        Zimbabwe          ZW        zimbabwe           942           23239   \n",
       "\n",
       "     NewDeaths  TotalDeaths  NewRecovered  TotalRecovered        Date Premium  \\\n",
       "0           13         2301           471           44608  01-13-2021      {}   \n",
       "1            5         1252           440           38421  01-13-2021      {}   \n",
       "2            4         2816           205           69608  01-13-2021      {}   \n",
       "3            1           86           206            7930  01-13-2021      {}   \n",
       "4            2          422           687           15512  01-13-2021      {}   \n",
       "..         ...          ...           ...             ...         ...     ...   \n",
       "185          0           35             0            1361  01-13-2021      {}   \n",
       "186          0            1             0               8  01-13-2021      {}   \n",
       "187          0          612             0            1416  01-13-2021      {}   \n",
       "188         24          495           293           21074  01-13-2021      {}   \n",
       "189         23          551           183           13396  01-13-2021      {}   \n",
       "\n",
       "    ISO2  \n",
       "0    NaN  \n",
       "1    NaN  \n",
       "2    NaN  \n",
       "3    NaN  \n",
       "4    NaN  \n",
       "..   ...  \n",
       "185  NaN  \n",
       "186  NaN  \n",
       "187  NaN  \n",
       "188  NaN  \n",
       "189  NaN  \n",
       "\n",
       "[190 rows x 12 columns]"
      ]
     },
     "execution_count": 25,
     "metadata": {},
     "output_type": "execute_result"
    }
   ],
   "source": [
    "df"
   ]
  }
 ],
 "metadata": {
  "kernelspec": {
   "display_name": "Python 3",
   "language": "python",
   "name": "python3"
  },
  "language_info": {
   "codemirror_mode": {
    "name": "ipython",
    "version": 3
   },
   "file_extension": ".py",
   "mimetype": "text/x-python",
   "name": "python",
   "nbconvert_exporter": "python",
   "pygments_lexer": "ipython3",
   "version": "3.8.3"
  }
 },
 "nbformat": 4,
 "nbformat_minor": 4
}
